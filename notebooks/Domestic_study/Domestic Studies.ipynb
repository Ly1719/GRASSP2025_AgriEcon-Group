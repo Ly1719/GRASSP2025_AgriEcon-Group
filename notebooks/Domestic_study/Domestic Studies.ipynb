{
 "cells": [
  {
   "cell_type": "markdown",
   "id": "86de79d5",
   "metadata": {},
   "source": [
    "### <span style=\"color:#9393FF\">Domestic Studies\n",
    "</span> \n"
   ]
  },
  {
   "cell_type": "markdown",
   "id": "38bf5f6d",
   "metadata": {},
   "source": [
    "### **Part 1: Introduction**"
   ]
  },
  {
   "cell_type": "markdown",
   "id": "be590256",
   "metadata": {},
   "source": [
    "We investigate the relationship between grain yield per hectare (kg/ha) and temperature conditions in Northeast China, focusing on the three provinces of Heilongjiang, Jilin, and Liaoning. To represent effective temperature, we use the Growing Degree Days (GDD) index as a key explanatory variable. Using a cleaned panel dataset, we conducted an OLS regression with year fixed effects to examine this relationship, and supplemented our analysis with descriptive statistics and visualizations."
   ]
  },
  {
   "cell_type": "markdown",
   "id": "d5d83b5f",
   "metadata": {},
   "source": [
    "### **Part 2: Data Processing**\n",
    "**2.1 Downloading Weather Data from NASA via API**"
   ]
  },
  {
   "cell_type": "markdown",
   "id": "bab3ebd7",
   "metadata": {},
   "source": [
    "*<span style=\"font-size:20px\">API Info:</span>*\n",
    "\n",
    "*<span style=\"font-size:20px\">Source: NASA POWER (https://power.larc.nasa.gov/)</span>*\n",
    "\n",
    "*<span style=\"font-size:20px\">Endpoint: https://power.larc.nasa.gov/api/temporal/daily/point </span>*\n",
    "\n",
    "*<span style=\"font-size:20px\">Parameters used: T2M_MAX, T2M_MIN</span>*\n"
   ]
  },
  {
   "cell_type": "code",
   "execution_count": null,
   "id": "f25e9173",
   "metadata": {},
   "outputs": [
    {
     "name": "stdout",
     "output_type": "stream",
     "text": [
      "Downloading: Harbin 2005\n",
      "Downloading: Harbin 2006\n",
      "Downloading: Harbin 2007\n",
      "Downloading: Harbin 2008\n",
      "Downloading: Harbin 2009\n",
      "Downloading: Harbin 2010\n",
      "Downloading: Harbin 2011\n",
      "Downloading: Harbin 2012\n",
      "Downloading: Harbin 2013\n",
      "Downloading: Harbin 2014\n",
      "Downloading: Harbin 2015\n",
      "Downloading: Harbin 2016\n",
      "Downloading: Harbin 2017\n",
      "Downloading: Harbin 2018\n",
      "Downloading: Harbin 2019\n",
      "Downloading: Harbin 2020\n",
      "Downloading: Harbin 2021\n",
      "Downloading: Harbin 2022\n",
      "Downloading: Harbin 2023\n",
      "Downloading: Changchun 2005\n",
      "Downloading: Changchun 2006\n",
      "Downloading: Changchun 2007\n",
      "Downloading: Changchun 2008\n",
      "Downloading: Changchun 2009\n",
      "Downloading: Changchun 2010\n",
      "Downloading: Changchun 2011\n",
      "Downloading: Changchun 2012\n",
      "Downloading: Changchun 2013\n",
      "Downloading: Changchun 2014\n",
      "Downloading: Changchun 2015\n",
      "Downloading: Changchun 2016\n",
      "Downloading: Changchun 2017\n",
      "Downloading: Changchun 2018\n",
      "Downloading: Changchun 2019\n",
      "Downloading: Changchun 2020\n",
      "Downloading: Changchun 2021\n",
      "Downloading: Changchun 2022\n",
      "Downloading: Changchun 2023\n",
      "Downloading: Shenyang 2005\n",
      "Downloading: Shenyang 2006\n",
      "Downloading: Shenyang 2007\n",
      "Downloading: Shenyang 2008\n",
      "Downloading: Shenyang 2009\n",
      "Downloading: Shenyang 2010\n",
      "Downloading: Shenyang 2011\n",
      "Downloading: Shenyang 2012\n",
      "Downloading: Shenyang 2013\n",
      "Downloading: Shenyang 2014\n",
      "Downloading: Shenyang 2015\n",
      "Downloading: Shenyang 2016\n",
      "Downloading: Shenyang 2017\n",
      "Downloading: Shenyang 2018\n",
      "Downloading: Shenyang 2019\n",
      "Downloading: Shenyang 2020\n",
      "Downloading: Shenyang 2021\n",
      "Downloading: Shenyang 2022\n",
      "Downloading: Shenyang 2023\n"
     ]
    }
   ],
   "source": [
    "import os\n",
    "import requests\n",
    "import time\n",
    "\n",
    "cities = {\"Harbin\": {\"lat\": 45.75, \"lon\": 126.63},\n",
    "    \"Changchun\": {\"lat\": 43.88, \"lon\": 125.35},\n",
    "    \"Shenyang\": {\"lat\": 41.80, \"lon\": 123.43}}\n",
    "start_year = 2005\n",
    "end_year = 2023\n",
    "output_dir = \"nasa_power_gdd_raw\"\n",
    "os.makedirs(output_dir, exist_ok=True)\n",
    "for city, info in cities.items():\n",
    "    lat, lon = info[\"lat\"], info[\"lon\"]\n",
    "    for year in range(start_year, end_year + 1):\n",
    "        start = f\"{year}0101\"\n",
    "        end = f\"{year}1231\"\n",
    "        url = (\n",
    "            f\"https://power.larc.nasa.gov/api/temporal/daily/point?\"\n",
    "            f\"parameters=T2M_MAX,T2M_MIN&community=AG&longitude={lon}&latitude={lat}\"\n",
    "            f\"&start={start}&end={end}&format=CSV\"\n",
    "        )\n",
    "        file_path = os.path.join(output_dir, f\"{city}_{year}.csv\")\n",
    "        try:\n",
    "            print(f\"Downloading: {city} {year}\")\n",
    "            r = requests.get(url)\n",
    "            if r.status_code == 200:\n",
    "                with open(file_path, \"w\", encoding=\"utf-8\") as f:\n",
    "                    f.write(r.text)\n",
    "            else:\n",
    "                print(f\"Failed: {city} {year} {r.status_code}\")\n",
    "            time.sleep(1)  # 防止API限速\n",
    "        except Exception as e:\n",
    "            print(f\"Error downloading {city} {year}: {e}\")"
   ]
  },
  {
   "cell_type": "markdown",
   "id": "f3915128",
   "metadata": {},
   "source": [
    "**2.2 Downloading yield data from the NBS for the same cities and years**"
   ]
  },
  {
   "cell_type": "markdown",
   "id": "d2a9184b",
   "metadata": {},
   "source": [
    "The yield data was manually selected and downloaded from the National Bureau of Statistics (NBS) website. It includes annual major crop yield data for the three provinces in Northeast China. The data were cleaned and organized for subsequent analysis of the relationship between temperature and crop yield."
   ]
  },
  {
   "cell_type": "markdown",
   "id": "d01a483d",
   "metadata": {},
   "source": [
    "*<span style=\"font-size:20px\">https://data.stats.gov.cn/easyquery.htm?cn=E0103</span>*"
   ]
  },
  {
   "cell_type": "code",
   "execution_count": 29,
   "id": "c04bf117",
   "metadata": {},
   "outputs": [
    {
     "name": "stdout",
     "output_type": "stream",
     "text": [
      "                指标    2023年    2022年    2021年    2020年    2019年    2018年  \\\n",
      "0  粮食单位面积产量(公斤/公顷)  5282.62  5287.08  5406.89  5222.73  5232.92  5281.07   \n",
      "\n",
      "     2017年    2016年    2015年    2014年    2013年    2012年    2011年    2010年  \\\n",
      "0  5235.41  5221.96  5332.03  5300.48  5196.92  4994.31  4841.89  4526.17   \n",
      "\n",
      "     2009年    2008年    2007年    2006年    2005年  \n",
      "0  3950.61  4032.81  3471.27  3651.53  3574.24  \n"
     ]
    }
   ],
   "source": [
    "# The example of raw data files are as follows:\n",
    "import pandas as pd\n",
    "file_path = os.path.join(\"..\",\"..\",\"data\",\"raw\",\"domestic_study_data\",\"Heilongjiang_yield_clean.csv\")\n",
    "df = pd.read_csv(file_path)\n",
    "print(df.head(1))"
   ]
  },
  {
   "cell_type": "markdown",
   "id": "887e31d2",
   "metadata": {},
   "source": [
    "**2.3 Caculating GDD (Dependent variables)**\n",
    "\n",
    "In this case, we use a base temperature (T_base) of 10°C, which is common for \n",
    "temperate crops. GDD is an effective proxy for assessing how climate variability \n",
    "impacts crop development and yield, especially in empirical regression analysis. \n",
    "\n",
    "<span style=\"color:#9393FF\">GDD = max(0, (T_max + T_min)/2 - T_base)\n",
    "</span> \n",
    "\n",
    "\n"
   ]
  },
  {
   "cell_type": "code",
   "execution_count": null,
   "id": "1f4435cd",
   "metadata": {},
   "outputs": [],
   "source": [
    "import os\n",
    "import pandas as pd\n",
    "\n",
    "# saving path\n",
    "input_dir = \"../../data/raw/domestic_study_data/nasa_power_gdd_raw\"\n",
    "output_file = \"../../data/processed/domestic_study_data/annual_gdd_summary.csv\"\n",
    "T_BASE = 10  # base temperature\n",
    "summary = []\n",
    "\n",
    "# Gdd calculation\n",
    "for filename in os.listdir(input_dir):\n",
    "    if filename.endswith(\".csv\"):\n",
    "        parts = filename.replace(\".csv\", \"\").split(\"_\")\n",
    "        city = parts[0]\n",
    "        year = parts[1]\n",
    "\n",
    "        path = os.path.join(input_dir, filename)\n",
    "        try:\n",
    "            df = pd.read_csv(path, skiprows=10)  # 跳过前10行metadata\n",
    "            tmax = df[\"T2M_MAX\"]\n",
    "            tmin = df[\"T2M_MIN\"]\n",
    "\n",
    "            gdd = ((tmax + tmin) / 2 - T_BASE).clip(lower=0)\n",
    "            total_gdd = gdd.sum()\n",
    "\n",
    "            summary.append({\n",
    "                \"City\": city,\n",
    "                \"Year\": int(year),\n",
    "                \"Annual_GDD\": round(total_gdd, 2)\n",
    "            })\n",
    "\n",
    "        except Exception as e:\n",
    "            print(f\"Error processing {filename}: {e}\")\n",
    "\n",
    "# Save summary to CSV\n",
    "summary_df = pd.DataFrame(summary)\n",
    "summary_df.sort_values([\"City\", \"Year\"], inplace=True)\n",
    "summary_df.to_csv(output_file, index=False)"
   ]
  },
  {
   "cell_type": "markdown",
   "id": "6448be7d",
   "metadata": {},
   "source": [
    "**2.4 Merging yield data and GDD data**"
   ]
  },
  {
   "cell_type": "code",
   "execution_count": 11,
   "id": "8e1f690b",
   "metadata": {},
   "outputs": [],
   "source": [
    "import pandas as pd\n",
    "import os\n",
    "\n",
    "# Obtaining current script directory\n",
    "script_dir = os.getcwd()\n",
    "raw_dir = os.path.join(script_dir, \"../../data/raw/domestic_study_data\")\n",
    "processed_dir = os.path.join(script_dir, \"../../data/processed/domestic_study_data\")\n",
    "\n",
    "# reading data\n",
    "heilongjiang = pd.read_csv(os.path.join(raw_dir, \"Heilongjiang_yield_clean.csv\"))\n",
    "jilin = pd.read_csv(os.path.join(raw_dir, \"Jilin_yield_clean.csv\"))\n",
    "liaoning = pd.read_csv(os.path.join(raw_dir, \"Liaoning_yield_clean.csv\"))\n",
    "gdd = pd.read_csv(os.path.join(processed_dir, \"annual_gdd_summary.csv\"))\n",
    "\n",
    "# adding province column\n",
    "heilongjiang[\"province\"] = \"Heilongjiang\"\n",
    "jilin[\"province\"] = \"Jilin\"\n",
    "liaoning[\"province\"] = \"Liaoning\"\n",
    "\n",
    "# merging data\n",
    "df = pd.concat([heilongjiang, jilin, liaoning], ignore_index=True)\n",
    "\n",
    "# wide to long format\n",
    "df_long = df.melt(id_vars=[\"指标\", \"province\"], var_name=\"year\", value_name=\"value\")\n",
    "df_long[\"year\"] = df_long[\"year\"].str.extract(r'(\\d{4})')  # 提取年份字符串\n",
    "df_long = df_long.dropna(subset=[\"year\"])                 # 删除year列为NaN的行\n",
    "df_long[\"year\"] = df_long[\"year\"].astype(int)             # 再转为整数\n",
    "\n",
    "# matching city names to provinces\n",
    "gdd[\"province\"] = gdd[\"City\"].map({\n",
    "    \"Harbin\": \"Heilongjiang\",\n",
    "    \"Changchun\": \"Jilin\",\n",
    "    \"Shenyang\": \"Liaoning\"\n",
    "})\n",
    "\n",
    "# merge GDD\n",
    "panel = pd.merge(df_long, gdd[[\"province\", \"Year\", \"Annual_GDD\"]],\n",
    "                 left_on=[\"province\", \"year\"],\n",
    "                 right_on=[\"province\", \"Year\"],\n",
    "                 how=\"left\").drop(columns=[\"Year\"])\n",
    "\n",
    "# saving\n",
    "output_path = os.path.join(script_dir, \"../../data/processed/domestic_study_data/panel_yield_gdd.csv\")\n",
    "panel.to_csv(output_path, index=False)"
   ]
  },
  {
   "cell_type": "markdown",
   "id": "61fe8f0d",
   "metadata": {},
   "source": [
    "### **Part 3: Descriptive Analysis Classified by Province**\n"
   ]
  },
  {
   "cell_type": "code",
   "execution_count": null,
   "id": "3b9d36d1",
   "metadata": {},
   "outputs": [
    {
     "name": "stdout",
     "output_type": "stream",
     "text": [
      "\n",
      "=== Descriptive Statistics by Province ===\n",
      "              Yield_obs  Yield_mean  Yield_std  Yield_min  Yield_25pct  \\\n",
      "province                                                                 \n",
      "Heilongjiang      333.0     9097.03   12771.78        0.0      2723.90   \n",
      "Jilin             321.0     9731.51   13182.02        0.0      2545.51   \n",
      "Liaoning          328.0    12199.54   18578.31        0.0      2751.70   \n",
      "\n",
      "              Yield_median  Yield_75pct  Yield_max  GDD_obs  GDD_mean  \\\n",
      "province                                                                \n",
      "Heilongjiang       4032.81      6109.75   58859.74    399.0   1424.71   \n",
      "Jilin              4228.07      7349.06   60561.13    399.0   1495.81   \n",
      "Liaoning           5025.22      6646.02   65852.12    399.0   1828.45   \n",
      "\n",
      "              GDD_std  GDD_min  GDD_25pct  GDD_median  GDD_75pct  GDD_max  \n",
      "province                                                                   \n",
      "Heilongjiang    69.29  1296.19    1353.72     1449.71    1477.91  1563.37  \n",
      "Jilin           61.82  1400.32    1435.62     1488.96    1548.56  1618.99  \n",
      "Liaoning       103.92  1649.22    1719.22     1846.63    1929.95  2041.43  \n"
     ]
    }
   ],
   "source": [
    "# Descriptive statistics\n",
    "grouped_stats_en = (\n",
    "    panel.groupby(\"province\")[[\"value\", \"Annual_GDD\"]]\n",
    "    .describe()\n",
    "    .round(2)\n",
    ")\n",
    "\n",
    "# Flatten the MultiIndex columns\n",
    "grouped_stats_en.columns = ['_'.join(col).strip() for col in grouped_stats_en.columns.values]\n",
    "\n",
    "# Rename columns to English\n",
    "grouped_stats_en = grouped_stats_en.rename(columns={\n",
    "    \"value_count\": \"Yield_obs\",\n",
    "    \"value_mean\": \"Yield_mean\",\n",
    "    \"value_std\": \"Yield_std\",\n",
    "    \"value_min\": \"Yield_min\",\n",
    "    \"value_25%\": \"Yield_25pct\",\n",
    "    \"value_50%\": \"Yield_median\",\n",
    "    \"value_75%\": \"Yield_75pct\",\n",
    "    \"value_max\": \"Yield_max\",\n",
    "    \"Annual_GDD_count\": \"GDD_obs\",\n",
    "    \"Annual_GDD_mean\": \"GDD_mean\",\n",
    "    \"Annual_GDD_std\": \"GDD_std\",\n",
    "    \"Annual_GDD_min\": \"GDD_min\",\n",
    "    \"Annual_GDD_25%\": \"GDD_25pct\",\n",
    "    \"Annual_GDD_50%\": \"GDD_median\",\n",
    "    \"Annual_GDD_75%\": \"GDD_75pct\",\n",
    "    \"Annual_GDD_max\": \"GDD_max\",\n",
    "})\n",
    "\n",
    "# Print the result\n",
    "print(\"\\n=== Descriptive Statistics by Province ===\")\n",
    "print(grouped_stats_en)\n",
    "\n",
    "# save descriptive statistics\n",
    "output_path = os.path.join(os.getcwd(), \"..\", \"data\", \"processed\", \"domestic_study_data\", \"descriptive_stats.csv\")\n",
    "grouped_stats_en.to_csv(output_path, index=True)"
   ]
  },
  {
   "cell_type": "markdown",
   "id": "5b603b98",
   "metadata": {},
   "source": [
    "### **Part 4:  Regression and Visualization**"
   ]
  },
  {
   "cell_type": "code",
   "execution_count": 14,
   "id": "50d2f4c8",
   "metadata": {},
   "outputs": [
    {
     "name": "stdout",
     "output_type": "stream",
     "text": [
      "Requirement already satisfied: statsmodels in /Library/Frameworks/Python.framework/Versions/3.13/lib/python3.13/site-packages (0.14.4)\n",
      "Requirement already satisfied: numpy<3,>=1.22.3 in /Library/Frameworks/Python.framework/Versions/3.13/lib/python3.13/site-packages (from statsmodels) (2.2.5)\n",
      "Requirement already satisfied: scipy!=1.9.2,>=1.8 in /Library/Frameworks/Python.framework/Versions/3.13/lib/python3.13/site-packages (from statsmodels) (1.15.3)\n",
      "Requirement already satisfied: pandas!=2.1.0,>=1.4 in /Library/Frameworks/Python.framework/Versions/3.13/lib/python3.13/site-packages (from statsmodels) (2.2.3)\n",
      "Requirement already satisfied: patsy>=0.5.6 in /Library/Frameworks/Python.framework/Versions/3.13/lib/python3.13/site-packages (from statsmodels) (1.0.1)\n",
      "Requirement already satisfied: packaging>=21.3 in /Users/dyt/Library/Python/3.13/lib/python/site-packages (from statsmodels) (25.0)\n",
      "Requirement already satisfied: python-dateutil>=2.8.2 in /Library/Frameworks/Python.framework/Versions/3.13/lib/python3.13/site-packages (from pandas!=2.1.0,>=1.4->statsmodels) (2.9.0.post0)\n",
      "Requirement already satisfied: pytz>=2020.1 in /Library/Frameworks/Python.framework/Versions/3.13/lib/python3.13/site-packages (from pandas!=2.1.0,>=1.4->statsmodels) (2025.2)\n",
      "Requirement already satisfied: tzdata>=2022.7 in /Library/Frameworks/Python.framework/Versions/3.13/lib/python3.13/site-packages (from pandas!=2.1.0,>=1.4->statsmodels) (2025.2)\n",
      "Requirement already satisfied: six>=1.5 in /Library/Frameworks/Python.framework/Versions/3.13/lib/python3.13/site-packages (from python-dateutil>=2.8.2->pandas!=2.1.0,>=1.4->statsmodels) (1.17.0)\n",
      "\n",
      "\u001b[1m[\u001b[0m\u001b[34;49mnotice\u001b[0m\u001b[1;39;49m]\u001b[0m\u001b[39;49m A new release of pip is available: \u001b[0m\u001b[31;49m25.0.1\u001b[0m\u001b[39;49m -> \u001b[0m\u001b[32;49m25.1.1\u001b[0m\n",
      "\u001b[1m[\u001b[0m\u001b[34;49mnotice\u001b[0m\u001b[1;39;49m]\u001b[0m\u001b[39;49m To update, run: \u001b[0m\u001b[32;49mpip3 install --upgrade pip\u001b[0m\n",
      "Note: you may need to restart the kernel to use updated packages.\n"
     ]
    }
   ],
   "source": [
    "pip install statsmodels"
   ]
  },
  {
   "cell_type": "code",
   "execution_count": null,
   "id": "b3efe7a0",
   "metadata": {},
   "outputs": [
    {
     "name": "stderr",
     "output_type": "stream",
     "text": [
      "/var/folders/dv/_5x4w0t95xb1flj112ms384r0000gn/T/ipykernel_44936/3675077516.py:39: FutureWarning: Setting an item of incompatible dtype is deprecated and will raise an error in a future version of pandas. Value '0.0004***' has dtype incompatible with float64, please explicitly cast to a compatible dtype first.\n",
      "  coef_table.loc['Annual_GDD', 'Coef.'] = add_stars(coef_table.loc['Annual_GDD'])\n"
     ]
    },
    {
     "name": "stdout",
     "output_type": "stream",
     "text": [
      "                 Results: Ordinary least squares\n",
      "=================================================================\n",
      "Model:              OLS              Adj. R-squared:     0.127   \n",
      "Dependent Variable: log_yield        AIC:                -19.0604\n",
      "Date:               2025-06-17 12:32 BIC:                21.8006 \n",
      "No. Observations:   57               Log-Likelihood:     29.530  \n",
      "Df Model:           19               F-statistic:        1.428   \n",
      "Df Residuals:       37               Prob (F-statistic): 0.173   \n",
      "R-squared:          0.423            Scale:              0.032004\n",
      "-----------------------------------------------------------------\n",
      "                   Coef.   Std.Err.    t    P>|t|   [0.025 0.975]\n",
      "-----------------------------------------------------------------\n",
      "Annual_GDD       0.0004***   0.0001  2.8675 0.0068  0.0001 0.0006\n",
      "Intercept           7.9528   0.2205 36.0635 0.0000  7.5060 8.3996\n",
      "C(year)[T.2006]    -0.0048   0.1467 -0.0325 0.9742 -0.3021 0.2925\n",
      "C(year)[T.2007]    -0.1116   0.1486 -0.7512 0.4573 -0.4128 0.1895\n",
      "C(year)[T.2008]     0.0391   0.1469  0.2664 0.7914 -0.2585 0.3368\n",
      "C(year)[T.2009]    -0.0492   0.1461 -0.3364 0.7385 -0.3452 0.2469\n",
      "C(year)[T.2010]     0.0411   0.1463  0.2811 0.7802 -0.2554 0.3377\n",
      "C(year)[T.2011]     0.1736   0.1461  1.1881 0.2424 -0.1224 0.4696\n",
      "C(year)[T.2012]     0.1814   0.1463  1.2399 0.2228 -0.1151 0.4779\n",
      "C(year)[T.2013]     0.2400   0.1461  1.6424 0.1090 -0.0561 0.5361\n",
      "C(year)[T.2014]     0.1091   0.1473  0.7406 0.4636 -0.1893 0.4075\n",
      "C(year)[T.2015]     0.1437   0.1480  0.9709 0.3379 -0.1562 0.4436\n",
      "C(year)[T.2016]     0.2030   0.1469  1.3820 0.1753 -0.0946 0.5005\n",
      "C(year)[T.2017]     0.2044   0.1471  1.3898 0.1729 -0.0936 0.5025\n",
      "C(year)[T.2018]     0.1034   0.1490  0.6940 0.4920 -0.1985 0.4052\n",
      "C(year)[T.2019]     0.1918   0.1469  1.3054 0.1998 -0.1059 0.4895\n",
      "C(year)[T.2020]     0.1854   0.1464  1.2667 0.2132 -0.1112 0.4819\n",
      "C(year)[T.2021]     0.2576   0.1461  1.7629 0.0862 -0.0385 0.5536\n",
      "C(year)[T.2022]     0.2587   0.1461  1.7707 0.0848 -0.0373 0.5547\n",
      "C(year)[T.2023]     0.2136   0.1472  1.4513 0.1551 -0.0846 0.5117\n",
      "-----------------------------------------------------------------\n",
      "Omnibus:               4.677        Durbin-Watson:          2.904\n",
      "Prob(Omnibus):         0.096        Jarque-Bera (JB):       2.081\n",
      "Skew:                  -0.086       Prob(JB):               0.353\n",
      "Kurtosis:              2.080        Condition No.:          31060\n",
      "=================================================================\n",
      "Notes:\n",
      "[1] Standard Errors assume that the covariance matrix of the\n",
      "errors is correctly specified.\n",
      "[2] The condition number is large, 3.11e+04. This might indicate\n",
      "that there are strong multicollinearity or other numerical\n",
      "problems.\n",
      "Regression result saved to: /Users/dyt/GRASSP2025_AgriEcon/GRASSP2025_AgriEcon/notebooks/Domestic_study/regression_result.txt\n"
     ]
    },
    {
     "data": {
      "image/png": "[encoded data removed]",
      "text/plain": [
       "<Figure size 1000x600 with 1 Axes>"
      ]
     },
     "metadata": {},
     "output_type": "display_data"
    }
   ],
   "source": [
    "\n",
    "import pandas as pd\n",
    "import numpy as np\n",
    "import matplotlib.pyplot as plt\n",
    "import seaborn as sns\n",
    "import statsmodels.formula.api as smf\n",
    "import os\n",
    "\n",
    "# construct relative path\n",
    "data_path = os.path.join(script_dir, \"../../data/processed/domestic_study_data/panel_yield_gdd.csv\")\n",
    "df = pd.read_csv(data_path)\n",
    "\n",
    "# data cleaning\n",
    "df = df[df[\"指标\"] == \"粮食单位面积产量(公斤/公顷)\"]\n",
    "df.head(2)\n",
    "df = df.dropna(subset=[\"value\", \"Annual_GDD\"])\n",
    "df[\"log_yield\"] = df[\"value\"].apply(lambda x: np.log(x) if x > 0 else np.nan)\n",
    "df = df.dropna(subset=[\"log_yield\"])\n",
    "\n",
    "# Log Regression model\n",
    "model = smf.ols(\"log_yield ~ Annual_GDD + C(year)\", data=df).fit()\n",
    "\n",
    "# obtaining summary2 object\n",
    "s = model.summary2()\n",
    "\n",
    "# retrieving coef table\n",
    "coef_table = s.tables[1]\n",
    "\n",
    "# adding * to core variable\n",
    "def add_stars(row):\n",
    "    p = row['P>|t|']\n",
    "    if p < 0.01:\n",
    "        star = '***'\n",
    "    elif p < 0.05:\n",
    "        star = '**'\n",
    "    elif p < 0.1:\n",
    "        star = '*'\n",
    "    else:\n",
    "        star = ''\n",
    "    return f\"{row['Coef.']:.4f}{star}\"\n",
    "coef_table.loc['Annual_GDD', 'Coef.'] = add_stars(coef_table.loc['Annual_GDD'])\n",
    "\n",
    "# reordering variables\n",
    "ordered_vars = ['Annual_GDD'] + [v for v in coef_table.index if v != 'Annual_GDD']\n",
    "s.tables[1] = coef_table.loc[ordered_vars]\n",
    "\n",
    "# print\n",
    "print(s)\n",
    "\n",
    "# save regression summary\n",
    "current_dir = os.getcwd()\n",
    "save_path = os.path.join(current_dir, \"regression_result.txt\")\n",
    "with open(save_path, \"w\", encoding=\"utf-8\") as f:\n",
    "    f.write(str(model.summary2()))\n",
    "print(f\"Regression result saved to: {save_path}\")\n",
    "\n",
    "# Visualization\n",
    "plt.figure(figsize=(10, 6))\n",
    "sns.scatterplot(data=df, x=\"Annual_GDD\", y=\"log_yield\", hue=\"province\")\n",
    "sns.regplot(data=df, x=\"Annual_GDD\", y=\"log_yield\", scatter=False, color=\"black\", label=\"Trend Line\")\n",
    "plt.title(\"Log(Yield) vs Annual GDD\")\n",
    "plt.xlabel(\"Annual GDD (°C)\")\n",
    "plt.ylabel(\"Log(Unit Yield)\")\n",
    "plt.grid(True)\n",
    "plt.legend()\n",
    "plt.tight_layout()\n",
    "\n",
    "# saving the plot\n",
    "plot_path = os.path.join(os.getcwd(), \"..\", \"..\", \"figure\", \"Domestic_studies\", \"Domestic_Studies.png\")\n",
    "plt.savefig(plot_path, dpi=300) \n",
    "plt.show()\n"
   ]
  },
  {
   "cell_type": "markdown",
   "id": "299d17a3",
   "metadata": {},
   "source": [
    "### **Part 5: Conclusion**"
   ]
  },
  {
   "cell_type": "markdown",
   "id": "c24cad23",
   "metadata": {},
   "source": [
    "In this study, we explored the relationship between agricultural productivity and temperature conditions in Northeast China, using grain yield per hectare as the outcome variable and annual Growing Degree Days (GDD) as the key explanatory variable.\n",
    "\n",
    "By combining meteorological data from NASA’s POWER database with provincial crop yield data from the National Bureau of Statistics, we constructed a panel dataset covering the three major northeastern provinces—Heilongjiang, Jilin, and Liaoning—over the period 2005 to 2023.\n",
    "\n",
    "Our regression results show that GDD has a positive and statistically significant effect on log-transformed grain yield, suggesting that within the observed temperature range, moderate increases in cumulative heat are associated with improved productivity. This finding is consistent with agronomic theory, as most temperate crops require a certain level of accumulated heat to mature and yield optimally.\n",
    "\n",
    "However, the model's relatively low adjusted R-squared and the insignificance of many year fixed effects indicate that other factors—such as precipitation, soil quality, input usage, and crop varieties—may also play important roles and should be incorporated in future studies. Additionally, the linear specification does not capture possible threshold or non-linear effects of excessive heat, which may become more relevant under future climate scenarios.\n",
    "\n",
    "Overall, our findings underscore the importance of tracking climate indicators like GDD in agricultural planning and adaptation strategies. Policymakers and farmers in Northeast China may benefit from timely temperature monitoring and crop-specific climate response assessments to enhance resilience in a changing climate."
   ]
  }
 ],
 "metadata": {
  "kernelspec": {
   "display_name": "Python 3",
   "language": "python",
   "name": "python3"
  },
  "language_info": {
   "codemirror_mode": {
    "name": "ipython",
    "version": 3
   },
   "file_extension": ".py",
   "mimetype": "text/x-python",
   "name": "python",
   "nbconvert_exporter": "python",
   "pygments_lexer": "ipython3",
   "version": "3.13.3"
  }
 },
 "nbformat": 4,
 "nbformat_minor": 5
}
