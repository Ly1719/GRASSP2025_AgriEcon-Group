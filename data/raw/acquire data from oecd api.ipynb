{
 "cells": [
  {
   "cell_type": "code",
   "execution_count": null,
   "id": "33f44be0",
   "metadata": {},
   "outputs": [],
   "source": [
    "import pandas as pd\n",
    "import requests\n",
    "import io\n",
    "\n",
    "url = \"https://sdmx.oecd.org/public/rest/data/OECD.SDD.NAD,DSD_NAMAIN1@DF_QNA_BY_ACTIVITY_COE,1.1/Q..AUT..........?startPeriod=2023-Q4&dimensionAtObservation=AllDimensions&format=csv\"\n",
    "\n",
    "response = requests.get(url)\n",
    "response.raise_for_status()\n",
    "\n",
    "data = io.StringIO(response.text)\n",
    "df = pd.read_csv(data)\n",
    "\n",
    "print(df.head())\n"
   ]
  },
  {
   "cell_type": "markdown",
   "id": "3a6fced4",
   "metadata": {},
   "source": [
    "Base on sensei's video and example files, the data from api can be acquired like this.\n"
   ]
  },
  {
   "cell_type": "markdown",
   "id": "d60eba0e",
   "metadata": {},
   "source": [
    "1.go to oecd dataset explorer, url= https://data-explorer.oecd.org/\"\n"
   ]
  },
  {
   "cell_type": "markdown",
   "id": "9959ee6f",
   "metadata": {},
   "source": [
    "2.serch key words that you are interesed in\n"
   ]
  },
  {
   "cell_type": "markdown",
   "id": "3b80f54e",
   "metadata": {},
   "source": [
    "3.find \"Developer API\" and focus on data query\n"
   ]
  },
  {
   "cell_type": "markdown",
   "id": "2583b88b",
   "metadata": {},
   "source": [
    "4.add '&format=csv' after the whole url(this is to make sure that we get the csv form data)"
   ]
  },
  {
   "cell_type": "markdown",
   "id": "697b64d3",
   "metadata": {},
   "source": [
    "* Don't forget to get the API after you done the filter, otherwise it won't come up the data you want :("
   ]
  }
 ],
 "metadata": {
  "language_info": {
   "name": "python"
  }
 },
 "nbformat": 4,
 "nbformat_minor": 5
}
